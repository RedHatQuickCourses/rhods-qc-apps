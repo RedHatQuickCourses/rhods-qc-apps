{
 "cells": [
  {
   "cell_type": "code",
   "execution_count": 72,
   "id": "2acb4ab3-d7a7-4f47-96ab-2f95639818ed",
   "metadata": {},
   "outputs": [],
   "source": [
    "import os\n",
    "import urllib\n",
    "import json\n",
    "\n",
    "import torch\n",
    "from PIL import Image\n",
    "import numpy as np\n",
    "import requests\n",
    "from torchvision import transforms"
   ]
  },
  {
   "cell_type": "code",
   "execution_count": 73,
   "id": "e8a36496-de6e-4c40-9489-36f3df2d10dd",
   "metadata": {},
   "outputs": [],
   "source": [
    "class TensorToJson(json.JSONEncoder):\n",
    "    def default(self, obj):\n",
    "        if isinstance(obj, np.ndarray):\n",
    "            return obj.tolist()\n",
    "        return json.JSONEncoder.default(self, obj)\n",
    "    \n",
    "def tensor_to_json(tensor):\n",
    "    array = tensor.numpy()\n",
    "    return json.dumps(array, cls=TensorToJson)"
   ]
  },
  {
   "cell_type": "code",
   "execution_count": 97,
   "id": "06f17934-f3fc-4fe7-81a5-6fdcce778f97",
   "metadata": {},
   "outputs": [
    {
     "name": "stdout",
     "output_type": "stream",
     "text": [
      "bird class idx : 16\n",
      "bird class: 017.Cardinal\n"
     ]
    }
   ],
   "source": [
    "INFERENCE_ENDPOINT = os.environ.get(\"INFERENCE_ENDPOINT\")\n",
    "\n",
    "\n",
    "transform_test = transforms.Compose([\n",
    "    transforms.Resize((600, 600), Image.BILINEAR),\n",
    "    transforms.CenterCrop((448, 448)),\n",
    "    transforms.ToTensor(),\n",
    "    transforms.Normalize((0.485, 0.456, 0.406), (0.229, 0.224, 0.225)),\n",
    "])\n",
    "\n",
    "\n",
    "# Get image and prepare for model\n",
    "url = 'https://upload.wikimedia.org/wikipedia/commons/d/d8/Cardinalis_cardinalis_-Columbus%2C_Ohio%2C_USA-male-8_%281%29.jpg'\n",
    "img = Image.open(urllib.request.urlopen(url))\n",
    "scaled_img = transform_test(img)\n",
    "torch_images = scaled_img.unsqueeze(0)\n",
    "image = torch_images.numpy()\n",
    "im_json = image.tolist()\n",
    "\n",
    "# Build the request body\n",
    "payload = {\n",
    "    \"inputs\": [\n",
    "        {\n",
    "            # The ONNX model requires this name\n",
    "            \"name\": \"torch_images\",\n",
    "            \"shape\": [1, 3, 448, 448],\n",
    "            \"datatype\": \"FP32\",\n",
    "            \"data\": im_json\n",
    "        }\n",
    "    ]\n",
    "}\n",
    "\n",
    "# Send request\n",
    "response = requests.post(INFERENCE_ENDPOINT, json=payload)\n",
    "result = response.json()\n",
    "\n",
    "# Get class\n",
    "logits = result[\"outputs\"][0]\n",
    "pred_id = np.argmax(logits[\"data\"])\n",
    "print('bird class idx :', pred_id)\n",
    "\n",
    "with open('bird_classes.json', 'r') as f:\n",
    "    bird_classes = json.load(f)\n",
    "    \n",
    "print('bird class:', bird_classes[pred_id])"
   ]
  },
  {
   "cell_type": "code",
   "execution_count": null,
   "id": "15cc639d-de46-4ba5-8873-0a007ab3da20",
   "metadata": {},
   "outputs": [],
   "source": []
  }
 ],
 "metadata": {
  "kernelspec": {
   "display_name": "Python 3.9.16",
   "language": "python",
   "name": "python3"
  },
  "language_info": {
   "codemirror_mode": {
    "name": "ipython",
    "version": 3
   },
   "file_extension": ".py",
   "mimetype": "text/x-python",
   "name": "python",
   "nbconvert_exporter": "python",
   "pygments_lexer": "ipython3",
   "version": "3.9.16"
  }
 },
 "nbformat": 4,
 "nbformat_minor": 5
}
