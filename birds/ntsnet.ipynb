{
 "cells": [
  {
   "cell_type": "code",
   "execution_count": 1,
   "id": "149fa162-ee11-43f4-9975-ffceb279c8c9",
   "metadata": {},
   "outputs": [
    {
     "name": "stdout",
     "output_type": "stream",
     "text": [
      "Collecting numpy==1.22.4 (from -r requirements.txt (line 1))\n",
      "  Downloading numpy-1.22.4-cp39-cp39-manylinux_2_17_x86_64.manylinux2014_x86_64.whl (16.8 MB)\n",
      "\u001b[2K     \u001b[90m━━━━━━━━━━━━━━━━━━━━━━━━━━━━━━━━━━━━━━━\u001b[0m \u001b[32m16.8/16.8 MB\u001b[0m \u001b[31m164.7 MB/s\u001b[0m eta \u001b[36m0:00:00\u001b[0ma \u001b[36m0:00:01\u001b[0m\n",
      "\u001b[?25hInstalling collected packages: numpy\n",
      "  Attempting uninstall: numpy\n",
      "    Found existing installation: numpy 1.24.3\n",
      "    Uninstalling numpy-1.24.3:\n",
      "      Successfully uninstalled numpy-1.24.3\n",
      "Successfully installed numpy-1.22.4\n",
      "Note: you may need to restart the kernel to use updated packages.\n"
     ]
    }
   ],
   "source": [
    "%pip install -r requirements.txt"
   ]
  },
  {
   "cell_type": "code",
   "execution_count": 2,
   "id": "2d1c0bc1-935b-4284-bad2-d31d7544919b",
   "metadata": {},
   "outputs": [],
   "source": [
    "import os\n",
    "import urllib\n",
    "\n",
    "import boto3\n",
    "import torch\n",
    "from torchvision import transforms\n",
    "from PIL import Image"
   ]
  },
  {
   "cell_type": "code",
   "execution_count": 3,
   "id": "50c4f2a8-b5f0-4e72-949e-1fbb0e8f60a9",
   "metadata": {},
   "outputs": [
    {
     "name": "stderr",
     "output_type": "stream",
     "text": [
      "Using cache found in /opt/app-root/src/.cache/torch/hub/nicolalandro_ntsnet-cub200_master\n"
     ]
    }
   ],
   "source": [
    "model = torch.hub.load('nicolalandro/ntsnet-cub200', 'ntsnet', pretrained=True,\n",
    "                       **{'topN': 6, 'device':'cpu', 'num_classes': 200})"
   ]
  },
  {
   "cell_type": "code",
   "execution_count": 21,
   "id": "9929bae3-c009-427c-9236-c37f20885690",
   "metadata": {},
   "outputs": [
    {
     "name": "stderr",
     "output_type": "stream",
     "text": [
      "Using cache found in /opt/app-root/src/.cache/torch/hub/nicolalandro_ntsnet-cub200_master\n"
     ]
    },
    {
     "name": "stdout",
     "output_type": "stream",
     "text": [
      "bird class id: 16\n",
      "bird class: 017.Cardinal\n"
     ]
    }
   ],
   "source": [
    "transform_test = transforms.Compose([\n",
    "    transforms.Resize((600, 600), Image.BILINEAR),\n",
    "    transforms.CenterCrop((448, 448)),\n",
    "    # transforms.RandomHorizontalFlip(),  # only if train\n",
    "    transforms.ToTensor(),\n",
    "    transforms.Normalize((0.485, 0.456, 0.406), (0.229, 0.224, 0.225)),\n",
    "])\n",
    "\n",
    "\n",
    "model = torch.hub.load('nicolalandro/ntsnet-cub200', 'ntsnet', pretrained=True, **{'topN': 6, 'device':'cpu', 'num_classes': 200})\n",
    "model.eval()\n",
    "\n",
    "url = 'https://upload.wikimedia.org/wikipedia/commons/d/d8/Cardinalis_cardinalis_-Columbus%2C_Ohio%2C_USA-male-8_%281%29.jpg'\n",
    "img = Image.open(urllib.request.urlopen(url))\n",
    "scaled_img = transform_test(img)\n",
    "torch_images = scaled_img.unsqueeze(0)\n",
    "with torch.no_grad():\n",
    "    top_n_coordinates, concat_out, raw_logits, concat_logits, part_logits, top_n_index, top_n_prob = model(torch_images)\n",
    "\n",
    "    _, predict = torch.max(concat_logits, 1)\n",
    "    pred_id = predict.item()\n",
    "    print(\"bird class id:\", pred_id)\n",
    "    print('bird class:', model.bird_classes[pred_id])"
   ]
  },
  {
   "cell_type": "code",
   "execution_count": 14,
   "id": "b2646083-9f5a-45d9-956a-cae2ab76d029",
   "metadata": {},
   "outputs": [],
   "source": [
    "# Convert to ONNX\n",
    "\n",
    "onnx_filename = \"birds_classifier1.onnx\"\n",
    "input_names = [\"torch_images\"]\n",
    "output_names = [\"output\"]\n",
    "# ONNX to infers the input shape from an example\n",
    "# A list of RGB 448x448 images\n",
    "example_input = torch.randn(1, 3, 448, 448)\n",
    "\n",
    "torch.onnx.export(model, example_input, onnx_filename, input_names=input_names, output_names=[\"top_n_coordinates\", \"concat_out\", \"raw_logits\", \"concat_logits\", \"part_logits\", \"top_n_index\", \"top_n_prob\"])"
   ]
  },
  {
   "cell_type": "code",
   "execution_count": 15,
   "id": "b23b5cde-91bb-4f6b-9cff-f6b215e73d26",
   "metadata": {},
   "outputs": [
    {
     "name": "stdout",
     "output_type": "stream",
     "text": [
      "File birds_classifier1.onnx uploaded to S3!\n"
     ]
    }
   ],
   "source": [
    "key_id = os.getenv(\"AWS_ACCESS_KEY_ID\")\n",
    "secret_key = os.getenv(\"AWS_SECRET_ACCESS_KEY\")\n",
    "region = os.getenv(\"AWS_DEFAULT_REGION\")\n",
    "endpoint = os.getenv(\"AWS_S3_ENDPOINT\")\n",
    "bucket_name = os.getenv(\"AWS_S3_BUCKET\")\n",
    "\n",
    "s3_client = boto3.client(\n",
    "    \"s3\",\n",
    "    region,\n",
    "    aws_access_key_id=key_id,\n",
    "    aws_secret_access_key=secret_key,\n",
    "    endpoint_url=endpoint,\n",
    "    use_ssl=True\n",
    ")\n",
    "\n",
    "s3_client.upload_file(onnx_filename, bucket_name, Key=onnx_filename)\n",
    "\n",
    "print(f\"File {onnx_filename} uploaded to S3!\")"
   ]
  },
  {
   "cell_type": "code",
   "execution_count": null,
   "id": "fd38957e-b890-41a8-b5f3-0fed1a1d5c25",
   "metadata": {},
   "outputs": [],
   "source": []
  }
 ],
 "metadata": {
  "kernelspec": {
   "display_name": "Python 3.9.16",
   "language": "python",
   "name": "python3"
  },
  "language_info": {
   "codemirror_mode": {
    "name": "ipython",
    "version": 3
   },
   "file_extension": ".py",
   "mimetype": "text/x-python",
   "name": "python",
   "nbconvert_exporter": "python",
   "pygments_lexer": "ipython3",
   "version": "3.9.16"
  }
 },
 "nbformat": 4,
 "nbformat_minor": 5
}
