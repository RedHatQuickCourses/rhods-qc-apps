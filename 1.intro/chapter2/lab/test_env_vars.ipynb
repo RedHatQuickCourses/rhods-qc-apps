{
 "cells": [
  {
   "cell_type": "code",
   "execution_count": 1,
   "id": "4f59bca9-fc56-4f0f-84d1-d064d30d87ec",
   "metadata": {},
   "outputs": [],
   "source": [
    "import os"
   ]
  },
  {
   "cell_type": "code",
   "execution_count": 2,
   "id": "fa5456fa-d261-4b15-9f9d-492cb88fd4f3",
   "metadata": {},
   "outputs": [],
   "source": [
    "name = os.getenv(\"STUDENT_NAME\")"
   ]
  },
  {
   "cell_type": "code",
   "execution_count": 3,
   "id": "c58a03d5-14f1-4e0f-b5ec-095a34032ea3",
   "metadata": {},
   "outputs": [
    {
     "name": "stdout",
     "output_type": "stream",
     "text": [
      "Hello None\n"
     ]
    }
   ],
   "source": [
    "print(f\"Hello {name}\")"
   ]
  }
 ],
 "metadata": {
  "kernelspec": {
   "display_name": "Python 3.9",
   "language": "python",
   "name": "python3"
  },
  "language_info": {
   "codemirror_mode": {
    "name": "ipython",
    "version": 3
   },
   "file_extension": ".py",
   "mimetype": "text/x-python",
   "name": "python",
   "nbconvert_exporter": "python",
   "pygments_lexer": "ipython3",
   "version": "3.9.16"
  }
 },
 "nbformat": 4,
 "nbformat_minor": 5
}
