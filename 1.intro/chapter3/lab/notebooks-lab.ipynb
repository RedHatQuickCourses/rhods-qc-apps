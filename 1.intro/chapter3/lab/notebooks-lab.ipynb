{
 "cells": [
  {
   "cell_type": "markdown",
   "id": "01dc34ad-610f-4706-8ad7-4dc598538ba4",
   "metadata": {},
   "source": [
    "# Lab: Jupyter Notebooks\n",
    "\n",
    "This notebook uses the TinyDB python package. TinyDB is a lightweight database that supports JSON and in-memory storage.\n",
    "\n",
    "Follow the instructions that this notebook provides.\n",
    "Add, edit, and complete cells as necessary to complete the exercise.\n",
    "\n",
    "1. Verify that the list of installed packages does not include `tinydb`"
   ]
  },
  {
   "cell_type": "markdown",
   "id": "c6de9d25-e85c-44ab-a0dc-358aa6a7255a",
   "metadata": {},
   "source": [
    "2. Install the `4.8.0` version of the `tinydb` package."
   ]
  },
  {
   "cell_type": "markdown",
   "id": "074cdebc-e143-4e3a-adea-7431483bc6cf",
   "metadata": {},
   "source": [
    "3. Import the `tinydb` package into the notebook."
   ]
  },
  {
   "cell_type": "markdown",
   "id": "9c67d3ab-2872-49b0-85d1-88cb07e83e04",
   "metadata": {},
   "source": [
    "4. Verify that the following code works.\n",
    "The cell should display the two users contained in the TinyDB database."
   ]
  },
  {
   "cell_type": "code",
   "execution_count": null,
   "id": "be12b74a-a22a-4803-a346-3a29adb3b21d",
   "metadata": {},
   "outputs": [],
   "source": [
    "users = tinydb.TinyDB(\"db.json\")\n",
    "\n",
    "users.all()"
   ]
  },
  {
   "cell_type": "markdown",
   "id": "639bee01-d775-4ca3-a7bf-6b255a9ea81a",
   "metadata": {},
   "source": [
    "5. Fix the following cell."
   ]
  },
  {
   "cell_type": "code",
   "execution_count": null,
   "id": "f87a1f5d-4190-44f2-98da-ae5450937b7f",
   "metadata": {},
   "outputs": [],
   "source": [
    "This cell contains text but the notebook is trying to execute the cell in a kernel."
   ]
  },
  {
   "cell_type": "markdown",
   "id": "899456fa-050c-4eab-afd6-75d5a170a78d",
   "metadata": {},
   "source": [
    "6. Debug the following cell.\n",
    "This cell should return the `Alex` user, but it is returning a different user.\n",
    "Enable the debuger, find the problem, and fix the code."
   ]
  },
  {
   "cell_type": "code",
   "execution_count": null,
   "id": "0d30f1e8-f633-4451-8155-71626bf60a95",
   "metadata": {},
   "outputs": [],
   "source": [
    "def find_user_by_name(name):\n",
    "    User = tinydb.Query()\n",
    "    return users.search(User.name == name)\n",
    "\n",
    "\n",
    "# Find Alex\n",
    "usernames = [\"Ravi\", \"Alex\", \"John\"]\n",
    "username = usernames[0]\n",
    "find_user_by_name(username)"
   ]
  },
  {
   "cell_type": "markdown",
   "id": "f2e67868-6c90-4596-b86c-b3009ca1b0f2",
   "metadata": {},
   "source": [
    "7. Remove the following cell"
   ]
  },
  {
   "cell_type": "code",
   "execution_count": null,
   "id": "e7bbea40-da71-42e8-8dea-9911479582d1",
   "metadata": {},
   "outputs": [],
   "source": [
    "# This cell contains deprecated comments and can be removed"
   ]
  },
  {
   "cell_type": "markdown",
   "id": "492e512b-8abd-468b-a811-c4ef67f5fe6b",
   "metadata": {},
   "source": [
    "## Finish\n",
    "\n",
    "You have completed the exercise.\n",
    "You can clean up this environment by removing the workbench."
   ]
  }
 ],
 "metadata": {
  "kernelspec": {
   "display_name": "Python 3.9",
   "language": "python",
   "name": "python3"
  },
  "language_info": {
   "codemirror_mode": {
    "name": "ipython",
    "version": 3
   },
   "file_extension": ".py",
   "mimetype": "text/x-python",
   "name": "python",
   "nbconvert_exporter": "python",
   "pygments_lexer": "ipython3",
   "version": "3.9.16"
  }
 },
 "nbformat": 4,
 "nbformat_minor": 5
}
