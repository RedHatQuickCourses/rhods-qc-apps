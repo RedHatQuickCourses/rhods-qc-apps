{
 "cells": [
  {
   "cell_type": "markdown",
   "id": "01dc34ad-610f-4706-8ad7-4dc598538ba4",
   "metadata": {},
   "source": [
    "# Lab: Jupyter Notebooks\n",
    "\n",
    "This notebook uses the TinyDB python package. TinyDB is a lightweight database that supports JSON and in-memory storage.\n",
    "\n",
    "Follow the instructions that this notebook provides.\n",
    "Add, edit, and complete cells as necessary to complete the exercise.\n",
    "\n",
    "1. Verify that the list of installed packages does not include `tinydb`"
   ]
  },
  {
   "cell_type": "code",
   "execution_count": 1,
   "id": "b69f5d8a-61f5-4335-8b65-1ec1cfd83d71",
   "metadata": {},
   "outputs": [
    {
     "name": "stdout",
     "output_type": "stream",
     "text": [
      "\n",
      "\u001b[1m[\u001b[0m\u001b[34;49mnotice\u001b[0m\u001b[1;39;49m]\u001b[0m\u001b[39;49m A new release of pip available: \u001b[0m\u001b[31;49m22.2.2\u001b[0m\u001b[39;49m -> \u001b[0m\u001b[32;49m23.3.1\u001b[0m\n",
      "\u001b[1m[\u001b[0m\u001b[34;49mnotice\u001b[0m\u001b[1;39;49m]\u001b[0m\u001b[39;49m To update, run: \u001b[0m\u001b[32;49mpip install --upgrade pip\u001b[0m\n",
      "Note: you may need to restart the kernel to use updated packages.\n"
     ]
    }
   ],
   "source": [
    "%pip list | grep tinydb"
   ]
  },
  {
   "cell_type": "markdown",
   "id": "c6de9d25-e85c-44ab-a0dc-358aa6a7255a",
   "metadata": {},
   "source": [
    "2. Install the `4.8.0` version of the `tinydb` package."
   ]
  },
  {
   "cell_type": "code",
   "execution_count": 2,
   "id": "173bc071-be79-497e-b9e9-b9c850bf2690",
   "metadata": {},
   "outputs": [
    {
     "name": "stdout",
     "output_type": "stream",
     "text": [
      "Collecting tinydb==4.8.0\n",
      "  Downloading tinydb-4.8.0-py3-none-any.whl (24 kB)\n",
      "Installing collected packages: tinydb\n",
      "Successfully installed tinydb-4.8.0\n",
      "\n",
      "\u001b[1m[\u001b[0m\u001b[34;49mnotice\u001b[0m\u001b[1;39;49m]\u001b[0m\u001b[39;49m A new release of pip available: \u001b[0m\u001b[31;49m22.2.2\u001b[0m\u001b[39;49m -> \u001b[0m\u001b[32;49m23.3.1\u001b[0m\n",
      "\u001b[1m[\u001b[0m\u001b[34;49mnotice\u001b[0m\u001b[1;39;49m]\u001b[0m\u001b[39;49m To update, run: \u001b[0m\u001b[32;49mpip install --upgrade pip\u001b[0m\n",
      "Note: you may need to restart the kernel to use updated packages.\n"
     ]
    }
   ],
   "source": [
    "%pip install tinydb==4.8.0"
   ]
  },
  {
   "cell_type": "markdown",
   "id": "074cdebc-e143-4e3a-adea-7431483bc6cf",
   "metadata": {},
   "source": [
    "3. Import the `tinydb` package into the notebook."
   ]
  },
  {
   "cell_type": "code",
   "execution_count": 3,
   "id": "b81643d9-8eca-4f36-9c6a-b569d35a53f6",
   "metadata": {},
   "outputs": [],
   "source": [
    "import tinydb"
   ]
  },
  {
   "cell_type": "markdown",
   "id": "9c67d3ab-2872-49b0-85d1-88cb07e83e04",
   "metadata": {},
   "source": [
    "4. Verify that the following code works.\n",
    "The cell should display the two users contained in the TinyDB database."
   ]
  },
  {
   "cell_type": "code",
   "execution_count": 4,
   "id": "be12b74a-a22a-4803-a346-3a29adb3b21d",
   "metadata": {},
   "outputs": [
    {
     "data": {
      "text/plain": [
       "[{'name': 'Ravi'}, {'name': 'Alex'}]"
      ]
     },
     "execution_count": 4,
     "metadata": {},
     "output_type": "execute_result"
    }
   ],
   "source": [
    "users = tinydb.TinyDB(\"db.json\")\n",
    "\n",
    "users.all()"
   ]
  },
  {
   "cell_type": "markdown",
   "id": "639bee01-d775-4ca3-a7bf-6b255a9ea81a",
   "metadata": {},
   "source": [
    "5. Fix the following cell."
   ]
  },
  {
   "cell_type": "markdown",
   "id": "08ab6171-b8b6-4f17-882d-a54d801eeecc",
   "metadata": {},
   "source": [
    "This cell contains text but the notebook is trying to execute the cell in a kernel."
   ]
  },
  {
   "cell_type": "markdown",
   "id": "899456fa-050c-4eab-afd6-75d5a170a78d",
   "metadata": {},
   "source": [
    "6. Debug the following cell.\n",
    "This cell should return the `Alex` user, but it is returning a different user.\n",
    "Enable the debuger, find the problem, and fix the code."
   ]
  },
  {
   "cell_type": "code",
   "execution_count": 7,
   "id": "0d30f1e8-f633-4451-8155-71626bf60a95",
   "metadata": {},
   "outputs": [
    {
     "data": {
      "text/plain": [
       "[{'name': 'Alex'}]"
      ]
     },
     "execution_count": 7,
     "metadata": {},
     "output_type": "execute_result"
    }
   ],
   "source": [
    "def find_user_by_name(name):\n",
    "    User = tinydb.Query()\n",
    "    return users.search(User.name == name)\n",
    "\n",
    "\n",
    "# Find Alex\n",
    "usernames = [\"Ravi\", \"Alex\", \"John\"]\n",
    "username = usernames[1]\n",
    "find_user_by_name(username)"
   ]
  },
  {
   "cell_type": "markdown",
   "id": "f2e67868-6c90-4596-b86c-b3009ca1b0f2",
   "metadata": {},
   "source": [
    "7. Remove the following cell"
   ]
  },
  {
   "cell_type": "markdown",
   "id": "8343c930-515f-430c-9b5a-3e7f392d4fef",
   "metadata": {},
   "source": [
    "## Finish\n",
    "\n",
    "You have completed the exercise.\n",
    "You can clean up this environment by removing the workbench."
   ]
  }
 ],
 "metadata": {
  "kernelspec": {
   "display_name": "Python 3.9",
   "language": "python",
   "name": "python3"
  },
  "language_info": {
   "codemirror_mode": {
    "name": "ipython",
    "version": 3
   },
   "file_extension": ".py",
   "mimetype": "text/x-python",
   "name": "python",
   "nbconvert_exporter": "python",
   "pygments_lexer": "ipython3",
   "version": "3.9.16"
  }
 },
 "nbformat": 4,
 "nbformat_minor": 5
}
