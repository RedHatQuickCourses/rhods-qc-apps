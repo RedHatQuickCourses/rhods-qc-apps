{
 "cells": [
  {
   "cell_type": "markdown",
   "metadata": {},
   "source": [
    "# Getting Started: Training a Neural Network to Act as an XOR gate\n",
    "\n",
    "This is a minimal example about how you can use common data science libraries in RHOAI to train an AI model."
   ]
  },
  {
   "cell_type": "markdown",
   "metadata": {},
   "source": [
    "## Data Loading\n",
    "\n",
    "Read the data from a CSV file by using Pandas.\n",
    "Pandas loads the data into a `DataFrame` object:"
   ]
  },
  {
   "cell_type": "code",
   "execution_count": null,
   "metadata": {
    "tags": []
   },
   "outputs": [],
   "source": [
    "import pandas as pd\n",
    "\n",
    "data = pd.read_csv(\"xor.csv\")"
   ]
  },
  {
   "cell_type": "markdown",
   "metadata": {},
   "source": [
    "Inspect the data.\n",
    "\n",
    "The XOR gate receives 2 input values and returns one output.\n",
    "The gate returns `1` (or `true`) when the 2 input values are different.\n",
    "Othewise, the gate returns `0` (or `false`).\n",
    "\n",
    "The first unnamed column is the dataframe index. You can ignore the index in this example."
   ]
  },
  {
   "cell_type": "code",
   "execution_count": null,
   "metadata": {
    "tags": []
   },
   "outputs": [],
   "source": [
    "data"
   ]
  },
  {
   "cell_type": "markdown",
   "metadata": {},
   "source": [
    "## Data Inspection\n",
    "\n",
    "After loading the data, you can  explore the cases, for example, by gathering basic metrics:"
   ]
  },
  {
   "cell_type": "code",
   "execution_count": null,
   "metadata": {
    "tags": []
   },
   "outputs": [],
   "source": [
    "data.describe()"
   ]
  },
  {
   "cell_type": "markdown",
   "metadata": {},
   "source": [
    "You can also create data visualizations with libraries such as `matplotlib` to discover patterns and correlations:"
   ]
  },
  {
   "cell_type": "code",
   "execution_count": null,
   "metadata": {
    "tags": []
   },
   "outputs": [],
   "source": [
    "%pip install seaborn==0.13.0\n",
    "\n",
    "import seaborn as sns\n",
    "import matplotlib.pyplot as plt\n",
    "\n",
    "# Set graph style\n",
    "sns.set(style=\"whitegrid\")\n",
    "\n",
    "# Create the plot\n",
    "plt.figure(figsize=(4, 4))\n",
    "plot = sns.scatterplot(\n",
    "    x='Input 1',\n",
    "    y='Input 2',\n",
    "    hue='Output',\n",
    "    data=data,\n",
    "    palette={0: \"red\", 1: \"green\"},\n",
    "    s=200\n",
    ")\n",
    "plt.xticks([0, 1])\n",
    "plt.yticks([0, 1])\n",
    "plt.title('XOR Gate Cases')\n",
    "plt.show()"
   ]
  },
  {
   "cell_type": "markdown",
   "metadata": {},
   "source": [
    "## Data Preparation\n",
    "\n",
    "Typically, you must prepocess, clean, normalize, and prepare the data in a format that is suitable for the library and the model that you are training.\n",
    "You must also split the data into input and output data.\n",
    "\n",
    "In most cases, you would also split the data into training, test, validation subsets, so that you can evaluate the performance of your model after training.\n",
    "\n",
    "In this case, for the sake of simplicity, just split the data into inputs and output.\n",
    "\n",
    "To select the inputs, select all rows (`:`) and the first two columns (`:2`):"
   ]
  },
  {
   "cell_type": "code",
   "execution_count": null,
   "metadata": {
    "tags": []
   },
   "outputs": [],
   "source": [
    "inputs = data.iloc[:, :2]\n",
    "inputs"
   ]
  },
  {
   "cell_type": "markdown",
   "metadata": {},
   "source": [
    "To select the output, pick the last column:"
   ]
  },
  {
   "cell_type": "code",
   "execution_count": null,
   "metadata": {
    "tags": []
   },
   "outputs": [],
   "source": [
    "output = data.iloc[:, -1:]\n",
    "output"
   ]
  },
  {
   "cell_type": "markdown",
   "metadata": {},
   "source": [
    "## Training\n",
    "\n",
    "After your data is clean and ready, you can create and train your model.\n",
    "\n",
    "In this case, the exercise uses a simple neural network by using the `tensorflow` and `keras` libraries."
   ]
  },
  {
   "cell_type": "code",
   "execution_count": null,
   "metadata": {
    "tags": []
   },
   "outputs": [],
   "source": [
    "from keras.layers import Dense\n",
    "from keras.models import Sequential\n",
    "\n",
    "# Define a sequential neural network\n",
    "model = Sequential([\n",
    "    Dense(32, input_dim=2, activation=\"relu\"),\n",
    "    Dense(1, activation=\"sigmoid\")\n",
    "])\n",
    "\n",
    "# Compile the model\n",
    "model.compile(loss=\"mean_squared_error\", optimizer='rmsprop', metrics=['accuracy'])\n",
    "\n",
    "# Train the model until it reaches 100% accuracy. Given the simple XOR use case and that our training\n",
    "# data encompasses the entire problem space of possible inputs and outputs, we know we can get it to 100%.\n",
    "epochs = 0\n",
    "while model.fit(inputs, output, epochs=epochs+10, initial_epoch=epochs).history['accuracy'][-1] != 1.0:\n",
    "    epochs += 10"
   ]
  },
  {
   "cell_type": "markdown",
   "metadata": {},
   "source": [
    "The model is now trained."
   ]
  },
  {
   "cell_type": "markdown",
   "metadata": {},
   "source": [
    "## Evaluation\n",
    "\n",
    "After training, evaluate your model.\n",
    "Typically you should use a dedicated test subset to evaluate the model, but this simple case uses the same training data for testing."
   ]
  },
  {
   "cell_type": "code",
   "execution_count": null,
   "metadata": {},
   "outputs": [],
   "source": [
    "loss, accuracy = model.evaluate(inputs, output)\n",
    "print(\"Model accuracy:\", accuracy)"
   ]
  },
  {
   "cell_type": "markdown",
   "metadata": {},
   "source": [
    "Finally, you can also feed inputs into the trained model and verify the result."
   ]
  },
  {
   "cell_type": "code",
   "execution_count": null,
   "metadata": {
    "tags": []
   },
   "outputs": [],
   "source": [
    "predictions = model.predict(inputs)\n",
    "expected_predictions = output.to_numpy()\n",
    "rounded_predictions = [int(round(p[0])) for p in predictions]\n",
    "\n",
    "# Print the predicted values\n",
    "print(\"Predictions:\")\n",
    "print(\"Expected\\tPredicted\")\n",
    "print(\"-------------------------\")\n",
    "for input_val, output_val in zip(expected_predictions, rounded_predictions):\n",
    "    print(f\"{input_val[0]}\\t\\t{output_val}\")"
   ]
  }
 ],
 "metadata": {
  "kernelspec": {
   "display_name": "Python 3.9",
   "language": "python",
   "name": "python3"
  },
  "language_info": {
   "codemirror_mode": {
    "name": "ipython",
    "version": 3
   },
   "file_extension": ".py",
   "mimetype": "text/x-python",
   "name": "python",
   "nbconvert_exporter": "python",
   "pygments_lexer": "ipython3",
   "version": "3.9.18"
  }
 },
 "nbformat": 4,
 "nbformat_minor": 4
}
