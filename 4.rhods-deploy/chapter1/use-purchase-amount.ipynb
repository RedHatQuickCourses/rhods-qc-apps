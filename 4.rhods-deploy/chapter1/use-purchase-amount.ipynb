{
 "cells": [
  {
   "cell_type": "code",
   "execution_count": 1,
   "id": "44b098ec-838d-49c9-bdbe-1192e99d908e",
   "metadata": {},
   "outputs": [
    {
     "name": "stdout",
     "output_type": "stream",
     "text": [
      "22.879625918124702\n"
     ]
    }
   ],
   "source": [
    "# Include required packages for execution\n",
    "import pickle\n",
    "\n",
    "# Load models\n",
    "with open('mymodel.pkl', 'rb') as f:\n",
    "    model = pickle.load(f)\n",
    "\n",
    "# perform a prediction using the model\n",
    "print(model(5))"
   ]
  }
 ],
 "metadata": {
  "kernelspec": {
   "display_name": "Python 3.9",
   "language": "python",
   "name": "python3"
  },
  "language_info": {
   "codemirror_mode": {
    "name": "ipython",
    "version": 3
   },
   "file_extension": ".py",
   "mimetype": "text/x-python",
   "name": "python",
   "nbconvert_exporter": "python",
   "pygments_lexer": "ipython3",
   "version": "3.9.16"
  }
 },
 "nbformat": 4,
 "nbformat_minor": 5
}
