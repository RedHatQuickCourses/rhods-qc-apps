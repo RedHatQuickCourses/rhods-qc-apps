{
 "cells": [
  {
   "cell_type": "code",
   "execution_count": 1,
   "id": "51c38d9f-53b8-4bd7-9785-15a88f427e75",
   "metadata": {},
   "outputs": [],
   "source": [
    "import numpy as np\n",
    "from sklearn.datasets import load_iris\n",
    "from sklearn.model_selection import train_test_split\n",
    "from skl2onnx import to_onnx\n",
    "from sklearn.cluster import KMeans\n",
    "\n",
    "iris = load_iris()\n",
    "X, y = iris.data, iris.target\n",
    "X = X.astype(np.float32)\n",
    "X_train, X_test, y_train, y_test = train_test_split(X, y)\n",
    "\n",
    "kmeans = KMeans(n_clusters=3, init='k-means++', max_iter=300, n_init=10,\n",
    "                random_state=0)\n",
    "y_kmeans = kmeans.fit_predict(X_train, y_train)\n",
    "\n",
    "# Convert into ONNX format.\n",
    "onx = to_onnx(kmeans, X[:1])\n",
    "with open(\"rf_iris.onnx\", \"wb\") as f:\n",
    "    f.write(onx.SerializeToString())"
   ]
  }
 ],
 "metadata": {
  "kernelspec": {
   "display_name": "Python 3.9",
   "language": "python",
   "name": "python3"
  },
  "language_info": {
   "codemirror_mode": {
    "name": "ipython",
    "version": 3
   },
   "file_extension": ".py",
   "mimetype": "text/x-python",
   "name": "python",
   "nbconvert_exporter": "python",
   "pygments_lexer": "ipython3",
   "version": "3.9.16"
  }
 },
 "nbformat": 4,
 "nbformat_minor": 5
}
