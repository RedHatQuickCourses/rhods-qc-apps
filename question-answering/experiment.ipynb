{
 "cells": [
  {
   "cell_type": "code",
   "execution_count": null,
   "id": "7e9328a9-7340-4e21-a385-efdd5dde4899",
   "metadata": {},
   "outputs": [],
   "source": [
    "%pip install -r requirements.txt"
   ]
  },
  {
   "cell_type": "code",
   "execution_count": null,
   "id": "3ba7685b-181d-4d36-98c3-c055661da568",
   "metadata": {},
   "outputs": [],
   "source": [
    "from langchain.llms import OpenLLM\n",
    "from langchain.indexes import VectorstoreIndexCreator\n",
    "from langchain.document_loaders import WikipediaLoader\n",
    "from langchain.chains.question_answering import load_qa_chain\n",
    "from langchain.text_splitter import RecursiveCharacterTextSplitter"
   ]
  },
  {
   "cell_type": "code",
   "execution_count": null,
   "id": "5384f0b2-957d-4b60-88d1-8305598d0b6c",
   "metadata": {},
   "outputs": [],
   "source": [
    "loader = WikipediaLoader(query=\"OpenShift\", load_max_docs=4)"
   ]
  },
  {
   "cell_type": "code",
   "execution_count": null,
   "id": "1448a456-bfc8-49df-8b34-6dd53bc77fd8",
   "metadata": {},
   "outputs": [],
   "source": [
    "docs = loader.load()"
   ]
  },
  {
   "cell_type": "code",
   "execution_count": null,
   "id": "bb9ae43f-790a-4db2-be83-97338f9bf80e",
   "metadata": {},
   "outputs": [],
   "source": [
    "docs[0].page_content"
   ]
  },
  {
   "cell_type": "markdown",
   "id": "94a1733d-3ea8-4ea7-a9d8-c614c08c8713",
   "metadata": {},
   "source": [
    "In a new terminal, run `openllm start flan-t5`"
   ]
  },
  {
   "cell_type": "code",
   "execution_count": null,
   "id": "b77330ab-e16d-4be5-ac2c-b33cc609945d",
   "metadata": {},
   "outputs": [],
   "source": [
    "llm = OpenLLM(server_url = \"http://localhost:3000\")"
   ]
  },
  {
   "cell_type": "code",
   "execution_count": null,
   "id": "7b5e41eb-0ab2-4bdf-9eed-e3bbc8415518",
   "metadata": {},
   "outputs": [],
   "source": [
    "chain = load_qa_chain(llm)"
   ]
  },
  {
   "cell_type": "code",
   "execution_count": null,
   "id": "fe5904c8-8a8b-41e0-959d-75945778971a",
   "metadata": {},
   "outputs": [],
   "source": [
    "chain.run(\n",
    "    input_documents=docs,\n",
    "    question=\"how can i deploy an application by using the command line\"\n",
    ")"
   ]
  },
  {
   "cell_type": "code",
   "execution_count": null,
   "id": "c97c6a3b-03ea-458b-aef5-190aaf538924",
   "metadata": {},
   "outputs": [],
   "source": []
  }
 ],
 "metadata": {
  "kernelspec": {
   "display_name": "Python 3.9.16",
   "language": "python",
   "name": "python3"
  },
  "language_info": {
   "codemirror_mode": {
    "name": "ipython",
    "version": 3
   },
   "file_extension": ".py",
   "mimetype": "text/x-python",
   "name": "python",
   "nbconvert_exporter": "python",
   "pygments_lexer": "ipython3",
   "version": "3.9.16"
  }
 },
 "nbformat": 4,
 "nbformat_minor": 5
}
