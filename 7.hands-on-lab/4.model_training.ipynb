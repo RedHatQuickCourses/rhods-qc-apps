{
 "cells": [
  {
   "cell_type": "markdown",
   "id": "6621e85f-cb72-4a58-acb5-1675fe6e819a",
   "metadata": {},
   "source": [
    "# Model Training\n",
    "\n",
    "Run this notebook to train a basic neural network by using the preprocessed data and the Keras high-level TensorFlow API.\n",
    "\n",
    "At the bottom of the notebook, after model training, add the code to convert the trained model to ONNX format."
   ]
  },
  {
   "cell_type": "markdown",
   "id": "7db270f7-7965-44a9-98cb-7b4cfd122af8",
   "metadata": {},
   "source": [
    "First, import the necessary libraries and deactivate GPU acceleration."
   ]
  },
  {
   "cell_type": "code",
   "execution_count": 2,
   "id": "e40e8d5c-f870-43df-8968-905f8370c515",
   "metadata": {},
   "outputs": [],
   "source": [
    "from os import environ\n",
    "\n",
    "environ['CUDA_VISIBLE_DEVICES'] = '-1'\n",
    "\n",
    "from keras.models import Sequential\n",
    "from keras.layers.core import Dense\n",
    "from keras.optimizers import Adam\n",
    "from numpy import load\n",
    "from onnx import save\n",
    "from tf2onnx import convert"
   ]
  },
  {
   "cell_type": "markdown",
   "id": "1cffb9fd-8297-4f60-89df-935ebf50fa08",
   "metadata": {},
   "source": [
    "Next, create a basic neural network, and train the network by using the preprocessed data."
   ]
  },
  {
   "cell_type": "code",
   "execution_count": null,
   "id": "993bd9e1-04af-480a-bd22-c3ba9a23c4d3",
   "metadata": {},
   "outputs": [],
   "source": [
    "print('training model')\n",
    "\n",
    "epoch_count = int(environ.get('epoch_count', '20'))\n",
    "learning_rate = float(environ.get('learning_rate', '0.001'))\n",
    "\n",
    "Xsm_train = load(f'data/training_samples.npy')\n",
    "ysm_train = load(f'data/training_labels.npy')\n",
    "n_inputs = Xsm_train.shape[1]\n",
    "\n",
    "model = Sequential([\n",
    "    Dense(n_inputs, input_shape=(n_inputs, ), activation='relu'),\n",
    "    Dense(32, activation='relu'),\n",
    "    Dense(2, activation='softmax'),\n",
    "])\n",
    "model.compile(\n",
    "    Adam(learning_rate=learning_rate),\n",
    "    loss='sparse_categorical_crossentropy',\n",
    "    metrics=['accuracy'],\n",
    ")\n",
    "model.fit(\n",
    "    Xsm_train,\n",
    "    ysm_train,\n",
    "    validation_split=0.2,\n",
    "    batch_size=300,\n",
    "    epochs=epoch_count,\n",
    "    shuffle=True,\n",
    "    verbose=2,\n",
    ")"
   ]
  },
  {
   "cell_type": "markdown",
   "id": "16cf108f-c4b7-4113-95a8-401105e7d09e",
   "metadata": {},
   "source": [
    "# Export the Model to ONNX Format"
   ]
  },
  {
   "cell_type": "code",
   "execution_count": 2,
   "id": "e70bb8cc-c9e8-4fcc-9cd7-9e5d288b564e",
   "metadata": {},
   "outputs": [],
   "source": [
    "# TODO"
   ]
  }
 ],
 "metadata": {
  "kernelspec": {
   "display_name": "Python 3.9",
   "language": "python",
   "name": "python3"
  },
  "language_info": {
   "codemirror_mode": {
    "name": "ipython",
    "version": 3
   },
   "file_extension": ".py",
   "mimetype": "text/x-python",
   "name": "python",
   "nbconvert_exporter": "python",
   "pygments_lexer": "ipython3",
   "version": "3.9.16"
  }
 },
 "nbformat": 4,
 "nbformat_minor": 5
}
