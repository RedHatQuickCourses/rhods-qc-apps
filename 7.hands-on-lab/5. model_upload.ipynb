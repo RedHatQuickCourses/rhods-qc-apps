{
 "cells": [
  {
   "cell_type": "markdown",
   "id": "58dcdaab-02d0-4234-873f-90e98c3d7f4f",
   "metadata": {},
   "source": [
    "# Model Upload\n",
    "\n",
    "Complete and run this notebook to upload the trained model in ONNX format to your S3 bucket.\n",
    "You will use the uploaded model in a Model Server."
   ]
  },
  {
   "cell_type": "code",
   "execution_count": null,
   "id": "70f86167-4792-4802-aa96-e875c2748cb1",
   "metadata": {},
   "outputs": [],
   "source": [
    "%pip install boto3"
   ]
  },
  {
   "cell_type": "code",
   "execution_count": 1,
   "id": "1bc75ddb-0662-4218-a047-90a4dde8d0ae",
   "metadata": {},
   "outputs": [],
   "source": [
    "# TODO"
   ]
  }
 ],
 "metadata": {
  "kernelspec": {
   "display_name": "Python 3.9",
   "language": "python",
   "name": "python3"
  },
  "language_info": {
   "codemirror_mode": {
    "name": "ipython",
    "version": 3
   },
   "file_extension": ".py",
   "mimetype": "text/x-python",
   "name": "python",
   "nbconvert_exporter": "python",
   "pygments_lexer": "ipython3",
   "version": "3.9.16"
  }
 },
 "nbformat": 4,
 "nbformat_minor": 5
}
