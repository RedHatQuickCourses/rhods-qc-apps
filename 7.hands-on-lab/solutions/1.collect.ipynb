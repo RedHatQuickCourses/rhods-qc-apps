{
 "cells": [
  {
   "cell_type": "markdown",
   "id": "dad5d363-8e5b-4098-a603-984122e65e24",
   "metadata": {},
   "source": [
    "# Collect the Dataset\n",
    "\n",
    "To collect the dataset, download the `creditcard.csv` file from your S3 bucket.\n",
    "Save the file as `data/credictcard.csv`."
   ]
  },
  {
   "cell_type": "code",
   "execution_count": 2,
   "id": "7965ffbf-5b64-49c1-866e-43c6a7bed802",
   "metadata": {},
   "outputs": [],
   "source": [
    "# Make sure that the data directory exists\n",
    "!mkdir -p data"
   ]
  },
  {
   "cell_type": "code",
   "execution_count": 3,
   "id": "9d9bf7f7-97d8-4ec7-8de5-2d7d88baed5d",
   "metadata": {},
   "outputs": [],
   "source": [
    "import os\n",
    "import boto3"
   ]
  },
  {
   "cell_type": "code",
   "execution_count": 4,
   "id": "4e55804e-c172-45e0-ab13-f43a5239f121",
   "metadata": {},
   "outputs": [],
   "source": [
    "s3_data_path = \"creditcard.csv\""
   ]
  },
  {
   "cell_type": "code",
   "execution_count": 5,
   "id": "60b6c03b-b5c6-4db8-880c-230b13f0deef",
   "metadata": {},
   "outputs": [],
   "source": [
    "key_id = os.getenv(\"AWS_ACCESS_KEY_ID\")\n",
    "secret_key = os.getenv(\"AWS_SECRET_ACCESS_KEY\")\n",
    "region = os.getenv(\"AWS_DEFAULT_REGION\")\n",
    "endpoint = os.getenv(\"AWS_S3_ENDPOINT\")\n",
    "bucket_name = os.getenv(\"AWS_S3_BUCKET\")\n",
    "\n",
    "s3 = boto3.client(\n",
    "    \"s3\",\n",
    "    region,\n",
    "    aws_access_key_id=key_id,\n",
    "    aws_secret_access_key=secret_key,\n",
    "    endpoint_url=endpoint,\n",
    "    use_ssl=True\n",
    ")\n",
    "\n",
    "s3.download_file(bucket_name, s3_data_path, \"data/creditcard.csv\")"
   ]
  }
 ],
 "metadata": {
  "kernelspec": {
   "display_name": "Python 3.9",
   "language": "python",
   "name": "python3"
  },
  "language_info": {
   "codemirror_mode": {
    "name": "ipython",
    "version": 3
   },
   "file_extension": ".py",
   "mimetype": "text/x-python",
   "name": "python",
   "nbconvert_exporter": "python",
   "pygments_lexer": "ipython3",
   "version": "3.9.16"
  }
 },
 "nbformat": 4,
 "nbformat_minor": 5
}
