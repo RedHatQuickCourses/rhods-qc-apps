{
 "cells": [
  {
   "cell_type": "markdown",
   "id": "8f556f87-129a-4227-8f8b-43c7412e74d2",
   "metadata": {},
   "source": [
    "# Test the Uploaded Model\n",
    "\n",
    "Complete and run this notebook to test your deployed model."
   ]
  },
  {
   "cell_type": "code",
   "execution_count": 23,
   "id": "f7690e15-b191-4899-a250-502a2b066e53",
   "metadata": {},
   "outputs": [],
   "source": [
    "import requests\n",
    "from numpy import argmax"
   ]
  },
  {
   "cell_type": "code",
   "execution_count": 24,
   "id": "4033e87d-fe10-4870-8bb1-e3a1c0b758af",
   "metadata": {},
   "outputs": [],
   "source": [
    "INFERENCE_ENDPOINT = \"https://fraud-detection-rhods-intro-s2.apps.rhods-internal.61tk.p1.openshiftapps.com/v2/models/fraud-detection/infer\""
   ]
  },
  {
   "cell_type": "code",
   "execution_count": 33,
   "id": "30a55457-b313-4af8-9827-c5dbaebdd01a",
   "metadata": {},
   "outputs": [
    {
     "data": {
      "text/plain": [
       "{'model_name': 'fraud-detection__isvc-97ce9545a4',\n",
       " 'model_version': '1',\n",
       " 'outputs': [{'name': 'dense_2',\n",
       "   'datatype': 'FP32',\n",
       "   'shape': [1, 2],\n",
       "   'data': [0.9999962, 3.8042233e-06]}]}"
      ]
     },
     "execution_count": 33,
     "metadata": {},
     "output_type": "execute_result"
    }
   ],
   "source": [
    "sample = [\n",
    "    -0.15384616, -0.9909186, 1.0770786, 0.2849802, 0.0077313827, 1.657073, 0.05202024, 0.44638866, \n",
    "    -0.40703616, 0.3557039, 0.6260392, -0.92908716, 1.0941651, 0.57956475, -0.8621889, -2.2244275, \n",
    "    -1.1098708, 0.17238183, 1.7235482, 0.6979903, -0.15358274, -0.14279902, -0.17433698, -0.1741605, \n",
    "    -0.15337533,  -0.46633127, 0.6110009, -0.25287056, 0.090374656, 0.054820385\n",
    "]\n",
    "\n",
    "\n",
    "payload = {\n",
    "    \"inputs\": [\n",
    "        {\n",
    "            # The ONNX model requires this name\n",
    "            \"name\": \"dense_input\",\n",
    "            \"shape\": [1, 30],\n",
    "            \"datatype\": \"FP32\",\n",
    "            \"data\": sample\n",
    "        }\n",
    "    ]\n",
    "}\n",
    "\n",
    "response = requests.post(INFERENCE_ENDPOINT, json=payload)\n",
    "result = response.json()\n",
    "result"
   ]
  },
  {
   "cell_type": "code",
   "execution_count": 30,
   "id": "5bfbaf0d-b14e-44cd-af51-cfb0911a406d",
   "metadata": {},
   "outputs": [
    {
     "name": "stdout",
     "output_type": "stream",
     "text": [
      "The sample was classified as \"No Fraud\".\n"
     ]
    }
   ],
   "source": [
    "labels = ['No Fraud', 'Fraud']\n",
    "model_output = result['outputs'][0]['data']\n",
    "classification_result = labels[argmax(model_output)]\n",
    "\n",
    "print(f'The sample was classified as \"{classification_result}\".')"
   ]
  }
 ],
 "metadata": {
  "kernelspec": {
   "display_name": "Python 3.9",
   "language": "python",
   "name": "python3"
  },
  "language_info": {
   "codemirror_mode": {
    "name": "ipython",
    "version": 3
   },
   "file_extension": ".py",
   "mimetype": "text/x-python",
   "name": "python",
   "nbconvert_exporter": "python",
   "pygments_lexer": "ipython3",
   "version": "3.9.16"
  }
 },
 "nbformat": 4,
 "nbformat_minor": 5
}
