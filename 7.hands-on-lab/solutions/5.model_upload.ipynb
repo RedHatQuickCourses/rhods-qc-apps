{
 "cells": [
  {
   "cell_type": "markdown",
   "id": "9061faa9-aba9-4a5e-a7b6-42273dcb2e4c",
   "metadata": {},
   "source": [
    "# Model Upload\n",
    "\n",
    "Complete and run this notebook to upload the trained model in ONNX format to your S3 bucket.\n",
    "You will use the uploaded model in a Model Server."
   ]
  },
  {
   "cell_type": "code",
   "execution_count": 2,
   "id": "c80315bb-0f4f-4957-b3e1-ce8d306b7926",
   "metadata": {},
   "outputs": [
    {
     "name": "stdout",
     "output_type": "stream",
     "text": [
      "File model.onnx uploaded to S3!\n"
     ]
    }
   ],
   "source": [
    "import os\n",
    "import boto3\n",
    "\n",
    "onnx_filename = \"model.onnx\"\n",
    "\n",
    "key_id = os.getenv(\"AWS_ACCESS_KEY_ID\")\n",
    "secret_key = os.getenv(\"AWS_SECRET_ACCESS_KEY\")\n",
    "endpoint = os.getenv(\"AWS_S3_ENDPOINT\")\n",
    "bucket_name = os.getenv(\"AWS_S3_BUCKET\")\n",
    "\n",
    "s3_client = boto3.client(\n",
    "    \"s3\",\n",
    "    aws_access_key_id=key_id,\n",
    "    aws_secret_access_key=secret_key,\n",
    "    endpoint_url=endpoint,\n",
    "    use_ssl=True\n",
    ")\n",
    "\n",
    "s3_client.upload_file(onnx_filename, bucket_name, Key=onnx_filename)\n",
    "\n",
    "print(f\"File {onnx_filename} uploaded to S3!\")"
   ]
  }
 ],
 "metadata": {
  "kernelspec": {
   "display_name": "Python 3.9.16",
   "language": "python",
   "name": "python3"
  },
  "language_info": {
   "codemirror_mode": {
    "name": "ipython",
    "version": 3
   },
   "file_extension": ".py",
   "mimetype": "text/x-python",
   "name": "python",
   "nbconvert_exporter": "python",
   "pygments_lexer": "ipython3",
   "version": "3.9.16"
  }
 },
 "nbformat": 4,
 "nbformat_minor": 5
}
