{
 "cells": [
  {
   "cell_type": "markdown",
   "id": "4f925f11-3643-46b7-8bf7-656ac5b64f3d",
   "metadata": {},
   "source": [
    "# Test the Uploaded Model\n",
    "\n",
    "Complete and run this notebook to test your deployed model."
   ]
  },
  {
   "cell_type": "code",
   "execution_count": null,
   "id": "f7690e15-b191-4899-a250-502a2b066e53",
   "metadata": {},
   "outputs": [],
   "source": [
    "import requests\n",
    "from numpy import argmax"
   ]
  },
  {
   "cell_type": "code",
   "execution_count": null,
   "id": "4033e87d-fe10-4870-8bb1-e3a1c0b758af",
   "metadata": {},
   "outputs": [],
   "source": [
    "INFERENCE_ENDPOINT = \"TODO\""
   ]
  },
  {
   "cell_type": "code",
   "execution_count": null,
   "id": "16bd03d7-73f8-4be3-8bf8-80e59fd6ab89",
   "metadata": {},
   "outputs": [],
   "source": [
    "# No fraud sample\n",
    "sample = [\n",
    "    -0.15384616, -0.9909186, 1.0770786, 0.2849802, 0.0077313827, 1.657073, 0.05202024, 0.44638866, \n",
    "    -0.40703616, 0.3557039, 0.6260392, -0.92908716, 1.0941651, 0.57956475, -0.8621889, -2.2244275, \n",
    "    -1.1098708, 0.17238183, 1.7235482, 0.6979903, -0.15358274, -0.14279902, -0.17433698, -0.1741605, \n",
    "    -0.15337533,  -0.46633127, 0.6110009, -0.25287056, 0.090374656, 0.054820385\n",
    "]"
   ]
  },
  {
   "cell_type": "code",
   "execution_count": null,
   "id": "30a55457-b313-4af8-9827-c5dbaebdd01a",
   "metadata": {},
   "outputs": [],
   "source": [
    "payload = {\n",
    "    # TODO\n",
    "}\n",
    "\n",
    "response = requests.post(INFERENCE_ENDPOINT, json=payload)\n",
    "result = response.json()\n",
    "result"
   ]
  },
  {
   "cell_type": "code",
   "execution_count": null,
   "id": "5bfbaf0d-b14e-44cd-af51-cfb0911a406d",
   "metadata": {},
   "outputs": [],
   "source": [
    "labels = ['No Fraud', 'Fraud']\n",
    "model_output = result['outputs'][0]['data']\n",
    "classification_result = labels[argmax(model_output)]\n",
    "\n",
    "print(f'The sample was classified as \"{classification_result}\".')"
   ]
  }
 ],
 "metadata": {
  "kernelspec": {
   "display_name": "Python 3.9",
   "language": "python",
   "name": "python3"
  },
  "language_info": {
   "codemirror_mode": {
    "name": "ipython",
    "version": 3
   },
   "file_extension": ".py",
   "mimetype": "text/x-python",
   "name": "python",
   "nbconvert_exporter": "python",
   "pygments_lexer": "ipython3",
   "version": "3.9.16"
  }
 },
 "nbformat": 4,
 "nbformat_minor": 5
}
