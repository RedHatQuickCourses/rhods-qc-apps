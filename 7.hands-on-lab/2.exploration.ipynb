{
 "cells": [
  {
   "cell_type": "markdown",
   "id": "7dbaa1af-dcda-4460-8756-7b8611ae8302",
   "metadata": {},
   "source": [
    "# Data Exploration\n",
    "\n",
    "Execute this notebook to explore the data.\n",
    "\n",
    "The data used in this exercise contains records of normal and fraudulent credit card payments.\n",
    "\n",
    "You must use the data to train a machine learning model for detecting whether a transaction is a normal payment or a fraud."
   ]
  },
  {
   "cell_type": "markdown",
   "id": "41bd14ef-8bd5-4cd3-9921-0b37be68ca85",
   "metadata": {},
   "source": [
    "First of all, load the data and inspect a few records:"
   ]
  },
  {
   "cell_type": "code",
   "execution_count": null,
   "id": "e0823c66-8012-474e-aadc-3e6179617f9b",
   "metadata": {},
   "outputs": [],
   "source": [
    "import pandas as pd\n",
    "\n",
    "df = pd.read_csv('data/creditcard.csv')\n",
    "df.head()"
   ]
  },
  {
   "cell_type": "markdown",
   "id": "c37f5a6b-0171-438f-b7b7-c7595bc3aa5e",
   "metadata": {},
   "source": [
    "The dataset contains the following columns:\n",
    "\n",
    "* **Time**: the transaction time.\n",
    "* **Columns V1..V28**: Anonymized values for privacy reasons. You can assume that these columns describe the details of each transaction.\n",
    "* **Amount**: The amount of the transaction.\n",
    "* **Class**: Whether the transaction is fraudlent(`1`) or not (`0`)."
   ]
  },
  {
   "cell_type": "markdown",
   "id": "ffa09973-e140-449c-985e-0f4dd1aaacaf",
   "metadata": {},
   "source": [
    "Count the number of rows (samples) of the dataset:"
   ]
  },
  {
   "cell_type": "code",
   "execution_count": null,
   "id": "f6292765-a3d8-4012-9da8-6450cc848609",
   "metadata": {},
   "outputs": [],
   "source": [
    "len(df)"
   ]
  },
  {
   "cell_type": "markdown",
   "id": "5b5af588-5628-467e-9e88-d9248133a76f",
   "metadata": {},
   "source": [
    "You can take a look at descriptive statistics for each column"
   ]
  },
  {
   "cell_type": "code",
   "execution_count": null,
   "id": "4b66d42d-e00c-4467-94ca-6d817bcbb6c9",
   "metadata": {},
   "outputs": [],
   "source": [
    "df.describe()"
   ]
  },
  {
   "cell_type": "markdown",
   "id": "1361e4a4-2241-4b04-abd9-17975f7f760b",
   "metadata": {},
   "source": [
    "Verify whether the dataset contains null values"
   ]
  },
  {
   "cell_type": "code",
   "execution_count": null,
   "id": "f88948fa-8042-40a2-a52d-3c6cbaaa0d93",
   "metadata": {},
   "outputs": [],
   "source": [
    "print(\n",
    "    f\"No Frauds {round(df['Class'].value_counts()[0]/len(df) * 100, 2)}\"\n",
    "    f' % of the dataset'\n",
    ")\n",
    "print(\n",
    "    f\"Frauds {round(df['Class'].value_counts()[1]/len(df) * 100, 2)}\"\n",
    "    f'% of the dataset'\n",
    ")"
   ]
  },
  {
   "cell_type": "markdown",
   "id": "03f1fca7-00d5-406b-91a1-3b1c0d4a20dc",
   "metadata": {},
   "source": [
    "As you can see, most of the transactions are non-fraud. If we use this datase as the base for training our model, then we might get a lot of classification errors and the model will probably assume that most transactions are not fraud. But we don't want our model to assume based on class probabilities, we want our model to detect patterns that give signs of fraud!\n",
    "\n",
    "The preprocessing step will take care of this problem by balancing the dataset."
   ]
  },
  {
   "cell_type": "markdown",
   "id": "6cf6e0e8-d645-441f-9e71-373fe9cae24e",
   "metadata": {},
   "source": [
    "## References\n",
    "\n",
    "* The code used for this exercise is inspired in the following Kaggle notebook https://www.kaggle.com/code/janiobachmann/credit-fraud-dealing-with-imbalanced-datasets\n",
    "\n",
    "* Data https://www.kaggle.com/code/janiobachmann/credit-fraud-dealing-with-imbalanced-datasets/input"
   ]
  },
  {
   "cell_type": "code",
   "execution_count": null,
   "id": "de68bbdf-f7af-4add-9272-80871203fb2d",
   "metadata": {},
   "outputs": [],
   "source": []
  }
 ],
 "metadata": {
  "kernelspec": {
   "display_name": "Python 3.9",
   "language": "python",
   "name": "python3"
  },
  "language_info": {
   "codemirror_mode": {
    "name": "ipython",
    "version": 3
   },
   "file_extension": ".py",
   "mimetype": "text/x-python",
   "name": "python",
   "nbconvert_exporter": "python",
   "pygments_lexer": "ipython3",
   "version": "3.9.16"
  }
 },
 "nbformat": 4,
 "nbformat_minor": 5
}
