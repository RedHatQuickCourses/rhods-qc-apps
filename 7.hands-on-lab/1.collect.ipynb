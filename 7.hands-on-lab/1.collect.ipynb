{
 "cells": [
  {
   "cell_type": "markdown",
   "id": "1ce8ea35-5013-40aa-83d3-e949b50ad22f",
   "metadata": {},
   "source": [
    "# Collect the Dataset\n",
    "\n",
    "To collect the dataset, download the `creditcard.csv` file from your S3 bucket.\n",
    "Save the file as `data/credictcard.csv`."
   ]
  },
  {
   "cell_type": "code",
   "execution_count": null,
   "id": "1f91ae50-45b9-4f0a-bb8c-4a530d6f8fc5",
   "metadata": {},
   "outputs": [],
   "source": [
    "%pip install boto3"
   ]
  },
  {
   "cell_type": "code",
   "execution_count": null,
   "id": "286bfe3b-257a-4bdc-a2ec-d44d425b6b90",
   "metadata": {},
   "outputs": [],
   "source": [
    "# Make sure that the data directory exists\n",
    "!mkdir -p data"
   ]
  },
  {
   "cell_type": "code",
   "execution_count": 1,
   "id": "9d9bf7f7-97d8-4ec7-8de5-2d7d88baed5d",
   "metadata": {},
   "outputs": [],
   "source": [
    "# TODO..."
   ]
  }
 ],
 "metadata": {
  "kernelspec": {
   "display_name": "Python 3.9",
   "language": "python",
   "name": "python3"
  },
  "language_info": {
   "codemirror_mode": {
    "name": "ipython",
    "version": 3
   },
   "file_extension": ".py",
   "mimetype": "text/x-python",
   "name": "python",
   "nbconvert_exporter": "python",
   "pygments_lexer": "ipython3",
   "version": "3.9.16"
  }
 },
 "nbformat": 4,
 "nbformat_minor": 5
}
