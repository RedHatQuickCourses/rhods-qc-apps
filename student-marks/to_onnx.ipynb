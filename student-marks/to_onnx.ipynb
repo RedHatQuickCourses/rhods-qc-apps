{
 "cells": [
  {
   "cell_type": "code",
   "execution_count": 25,
   "id": "389e084e-c4c8-4e10-9cc1-b317debe52c2",
   "metadata": {},
   "outputs": [
    {
     "name": "stdout",
     "output_type": "stream",
     "text": [
      "Requirement already satisfied: boto3 in /opt/app-root/lib/python3.9/site-packages (from -r to_onnx.requirements.txt (line 1)) (1.26.147)\n",
      "Requirement already satisfied: skl2onnx in /opt/app-root/lib/python3.9/site-packages (from -r to_onnx.requirements.txt (line 2)) (1.14.1)\n",
      "Requirement already satisfied: onnxruntime in /opt/app-root/lib/python3.9/site-packages (from -r to_onnx.requirements.txt (line 3)) (1.15.1)\n",
      "Requirement already satisfied: botocore<1.30.0,>=1.29.147 in /opt/app-root/lib/python3.9/site-packages (from boto3->-r to_onnx.requirements.txt (line 1)) (1.29.147)\n",
      "Requirement already satisfied: jmespath<2.0.0,>=0.7.1 in /opt/app-root/lib/python3.9/site-packages (from boto3->-r to_onnx.requirements.txt (line 1)) (1.0.1)\n",
      "Requirement already satisfied: s3transfer<0.7.0,>=0.6.0 in /opt/app-root/lib/python3.9/site-packages (from boto3->-r to_onnx.requirements.txt (line 1)) (0.6.1)\n",
      "Requirement already satisfied: onnx>=1.2.1 in /opt/app-root/lib/python3.9/site-packages (from skl2onnx->-r to_onnx.requirements.txt (line 2)) (1.14.0)\n",
      "Requirement already satisfied: scikit-learn<1.3,>=0.19 in /opt/app-root/lib/python3.9/site-packages (from skl2onnx->-r to_onnx.requirements.txt (line 2)) (1.2.2)\n",
      "Requirement already satisfied: onnxconverter-common>=1.7.0 in /opt/app-root/lib/python3.9/site-packages (from skl2onnx->-r to_onnx.requirements.txt (line 2)) (1.13.0)\n",
      "Requirement already satisfied: coloredlogs in /opt/app-root/lib/python3.9/site-packages (from onnxruntime->-r to_onnx.requirements.txt (line 3)) (15.0.1)\n",
      "Requirement already satisfied: flatbuffers in /opt/app-root/lib/python3.9/site-packages (from onnxruntime->-r to_onnx.requirements.txt (line 3)) (23.5.26)\n",
      "Requirement already satisfied: numpy>=1.21.6 in /opt/app-root/lib/python3.9/site-packages (from onnxruntime->-r to_onnx.requirements.txt (line 3)) (1.24.3)\n",
      "Requirement already satisfied: packaging in /opt/app-root/lib/python3.9/site-packages (from onnxruntime->-r to_onnx.requirements.txt (line 3)) (21.3)\n",
      "Requirement already satisfied: protobuf in /opt/app-root/lib/python3.9/site-packages (from onnxruntime->-r to_onnx.requirements.txt (line 3)) (3.20.3)\n",
      "Requirement already satisfied: sympy in /opt/app-root/lib/python3.9/site-packages (from onnxruntime->-r to_onnx.requirements.txt (line 3)) (1.12)\n",
      "Requirement already satisfied: python-dateutil<3.0.0,>=2.1 in /opt/app-root/lib/python3.9/site-packages (from botocore<1.30.0,>=1.29.147->boto3->-r to_onnx.requirements.txt (line 1)) (2.8.2)\n",
      "Requirement already satisfied: urllib3<1.27,>=1.25.4 in /opt/app-root/lib/python3.9/site-packages (from botocore<1.30.0,>=1.29.147->boto3->-r to_onnx.requirements.txt (line 1)) (1.26.16)\n",
      "Requirement already satisfied: typing-extensions>=3.6.2.1 in /opt/app-root/lib/python3.9/site-packages (from onnx>=1.2.1->skl2onnx->-r to_onnx.requirements.txt (line 2)) (4.6.3)\n",
      "Requirement already satisfied: scipy>=1.3.2 in /opt/app-root/lib/python3.9/site-packages (from scikit-learn<1.3,>=0.19->skl2onnx->-r to_onnx.requirements.txt (line 2)) (1.10.1)\n",
      "Requirement already satisfied: joblib>=1.1.1 in /opt/app-root/lib/python3.9/site-packages (from scikit-learn<1.3,>=0.19->skl2onnx->-r to_onnx.requirements.txt (line 2)) (1.2.0)\n",
      "Requirement already satisfied: threadpoolctl>=2.0.0 in /opt/app-root/lib/python3.9/site-packages (from scikit-learn<1.3,>=0.19->skl2onnx->-r to_onnx.requirements.txt (line 2)) (3.1.0)\n",
      "Requirement already satisfied: humanfriendly>=9.1 in /opt/app-root/lib/python3.9/site-packages (from coloredlogs->onnxruntime->-r to_onnx.requirements.txt (line 3)) (10.0)\n",
      "Requirement already satisfied: pyparsing!=3.0.5,>=2.0.2 in /opt/app-root/lib/python3.9/site-packages (from packaging->onnxruntime->-r to_onnx.requirements.txt (line 3)) (3.0.9)\n",
      "Requirement already satisfied: mpmath>=0.19 in /opt/app-root/lib/python3.9/site-packages (from sympy->onnxruntime->-r to_onnx.requirements.txt (line 3)) (1.3.0)\n",
      "Requirement already satisfied: six>=1.5 in /opt/app-root/lib/python3.9/site-packages (from python-dateutil<3.0.0,>=2.1->botocore<1.30.0,>=1.29.147->boto3->-r to_onnx.requirements.txt (line 1)) (1.16.0)\n",
      "Note: you may need to restart the kernel to use updated packages.\n"
     ]
    }
   ],
   "source": [
    "%pip install -r to_onnx.requirements.txt"
   ]
  },
  {
   "cell_type": "code",
   "execution_count": 26,
   "id": "bbbd0ff6-3b05-4220-835f-f6066978eb50",
   "metadata": {},
   "outputs": [],
   "source": [
    "import os\n",
    "import boto3\n",
    "\n",
    "import joblib\n",
    "import skl2onnx\n",
    "from skl2onnx.common.data_types import FloatTensorType"
   ]
  },
  {
   "cell_type": "code",
   "execution_count": 27,
   "id": "e4f88a61-d099-4438-8e22-5a1b0f560ec4",
   "metadata": {},
   "outputs": [],
   "source": [
    "model = joblib.load(\"build/model.joblib\")"
   ]
  },
  {
   "cell_type": "code",
   "execution_count": 28,
   "id": "4af4dcc7-a382-46b1-ab72-5a167edd0850",
   "metadata": {},
   "outputs": [],
   "source": [
    "initial_type = [('float_input', FloatTensorType([None, 2]))]\n",
    "onx = skl2onnx.convert_sklearn(model, initial_types=initial_type)\n",
    "\n",
    "\n",
    "MODEL_ID = os.getenv(\"BUILD_ID\", \"dev\")\n",
    "onnx_filename = f\"build/model.{MODEL_ID}.onnx\"\n",
    "\n",
    "with open(onnx_filename, \"wb\") as f:\n",
    "    f.write(onx.SerializeToString())"
   ]
  },
  {
   "cell_type": "markdown",
   "id": "1842cae9-5e9c-4c32-960b-d4cf717d13a6",
   "metadata": {},
   "source": [
    "Test"
   ]
  },
  {
   "cell_type": "code",
   "execution_count": 29,
   "id": "0f8c67c8-f881-415a-82a4-20681deaa668",
   "metadata": {},
   "outputs": [
    {
     "name": "stdout",
     "output_type": "stream",
     "text": [
      "float_input\n",
      "variable\n"
     ]
    }
   ],
   "source": [
    "import numpy as np\n",
    "import onnxruntime as rt\n",
    "\n",
    "sess = rt.InferenceSession(onnx_filename, providers=[\"CPUExecutionProvider\"])\n",
    "input_name = sess.get_inputs()[0].name\n",
    "output_name = sess.get_outputs()[0].name\n",
    "\n",
    "print(input_name)\n",
    "print(output_name)"
   ]
  },
  {
   "cell_type": "code",
   "execution_count": 30,
   "id": "021061b6-47e3-4a30-8238-a12ba379346b",
   "metadata": {},
   "outputs": [
    {
     "data": {
      "text/plain": [
       "array([[10.804643]], dtype=float32)"
      ]
     },
     "execution_count": 30,
     "metadata": {},
     "output_type": "execute_result"
    }
   ],
   "source": [
    "student_input =  np.array([[4, 2]], dtype=np.float32)\n",
    "\n",
    "sess.run([output_name], {input_name: student_input})[0]"
   ]
  },
  {
   "cell_type": "markdown",
   "id": "144171bb-88e5-4fc3-95b6-df3b8d1790fb",
   "metadata": {},
   "source": [
    "Upload"
   ]
  },
  {
   "cell_type": "code",
   "execution_count": 31,
   "id": "046ab24e-d646-4cef-8d61-8e5c3f2fc254",
   "metadata": {},
   "outputs": [
    {
     "name": "stdout",
     "output_type": "stream",
     "text": [
      "File build/model.dev.onnx uploaded to S3!\n"
     ]
    }
   ],
   "source": [
    "key_id = os.getenv(\"AWS_ACCESS_KEY_ID\")\n",
    "secret_key = os.getenv(\"AWS_SECRET_ACCESS_KEY\")\n",
    "region = os.getenv(\"AWS_DEFAULT_REGION\")\n",
    "endpoint = os.getenv(\"AWS_S3_ENDPOINT\")\n",
    "bucket_name = os.getenv(\"AWS_S3_BUCKET\")\n",
    "\n",
    "s3_client = boto3.client(\n",
    "    \"s3\",\n",
    "    region,\n",
    "    aws_access_key_id=key_id,\n",
    "    aws_secret_access_key=secret_key,\n",
    "    endpoint_url=endpoint,\n",
    "    use_ssl=True\n",
    ")\n",
    "\n",
    "s3_client.upload_file(onnx_filename, bucket_name, Key=onnx_filename)\n",
    "\n",
    "print(f\"File {onnx_filename} uploaded to S3!\")"
   ]
  },
  {
   "cell_type": "markdown",
   "id": "30882f3c-a269-4fc3-ac77-1b31400bafeb",
   "metadata": {},
   "source": [
    "This ONNX model works with Triton runtime 23.05 Model Server and the `onnx - 1` framework."
   ]
  }
 ],
 "metadata": {
  "kernelspec": {
   "display_name": "Python 3.9.16",
   "language": "python",
   "name": "python3"
  },
  "language_info": {
   "codemirror_mode": {
    "name": "ipython",
    "version": 3
   },
   "file_extension": ".py",
   "mimetype": "text/x-python",
   "name": "python",
   "nbconvert_exporter": "python",
   "pygments_lexer": "ipython3",
   "version": "3.9.16"
  }
 },
 "nbformat": 4,
 "nbformat_minor": 5
}
