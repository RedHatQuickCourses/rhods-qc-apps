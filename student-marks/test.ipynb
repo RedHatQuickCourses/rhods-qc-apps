{
 "cells": [
  {
   "cell_type": "code",
   "execution_count": 8,
   "id": "fa6c9ca5-8d0c-429e-839a-c5c91481be9d",
   "metadata": {},
   "outputs": [],
   "source": [
    "import os\n",
    "import requests\n",
    "\n",
    "import numpy as np"
   ]
  },
  {
   "cell_type": "code",
   "execution_count": 13,
   "id": "bc0c2e8b-8d0d-454e-8c60-e340c94542b8",
   "metadata": {},
   "outputs": [],
   "source": [
    "INFERENCE_ENDPOINT = os.environ.get(\"INFERENCE_ENDPOINT\")\n",
    "\n",
    "STUDENTS = [\n",
    "    [4, 2]\n",
    "]"
   ]
  },
  {
   "cell_type": "code",
   "execution_count": 14,
   "id": "9710ddf6-b5c9-4540-9254-0e9e85c0012d",
   "metadata": {},
   "outputs": [
    {
     "data": {
      "text/plain": [
       "{'model_name': 'triton-1__isvc-b2877bf3ce',\n",
       " 'model_version': '1',\n",
       " 'outputs': [{'name': 'variable',\n",
       "   'datatype': 'FP32',\n",
       "   'shape': [1, 1],\n",
       "   'data': [10.804643]}]}"
      ]
     },
     "execution_count": 14,
     "metadata": {},
     "output_type": "execute_result"
    }
   ],
   "source": [
    "payload = {\n",
    "    \"inputs\": [\n",
    "        {\n",
    "            # The ONNX model requires this name\n",
    "            \"name\": \"float_input\",\n",
    "            \"shape\": [1, 2],\n",
    "            \"datatype\": \"FP32\",\n",
    "            \"data\": STUDENTS\n",
    "        }\n",
    "    ]\n",
    "}\n",
    "\n",
    "response = requests.post(INFERENCE_ENDPOINT, json=payload)\n",
    "result = response.json()\n",
    "result"
   ]
  },
  {
   "cell_type": "code",
   "execution_count": null,
   "id": "3a9de205-5eda-4b49-ac8b-9c1a78907e1b",
   "metadata": {},
   "outputs": [],
   "source": []
  },
  {
   "cell_type": "code",
   "execution_count": null,
   "id": "a4105fce-939e-422d-ac92-05b78428a29c",
   "metadata": {},
   "outputs": [],
   "source": []
  }
 ],
 "metadata": {
  "kernelspec": {
   "display_name": "Python 3.9.16",
   "language": "python",
   "name": "python3"
  },
  "language_info": {
   "codemirror_mode": {
    "name": "ipython",
    "version": 3
   },
   "file_extension": ".py",
   "mimetype": "text/x-python",
   "name": "python",
   "nbconvert_exporter": "python",
   "pygments_lexer": "ipython3",
   "version": "3.9.16"
  }
 },
 "nbformat": 4,
 "nbformat_minor": 5
}
